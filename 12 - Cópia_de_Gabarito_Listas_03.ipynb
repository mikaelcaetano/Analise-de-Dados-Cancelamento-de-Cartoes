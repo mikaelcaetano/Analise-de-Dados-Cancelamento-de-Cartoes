{
  "cells": [
    {
      "cell_type": "markdown",
      "metadata": {
        "id": "view-in-github",
        "colab_type": "text"
      },
      "source": [
        "<a href=\"https://colab.research.google.com/github/mikaelcaetano/Analise-de-Dados-Cancelamento-de-Cartoes/blob/main/12%20-%20C%C3%B3pia_de_Gabarito_Listas_03.ipynb\" target=\"_parent\"><img src=\"https://colab.research.google.com/assets/colab-badge.svg\" alt=\"Open In Colab\"/></a>"
      ]
    },
    {
      "cell_type": "markdown",
      "metadata": {
        "id": "lhlcmBepaer-"
      },
      "source": [
        "# Como descobrir o índice de um item de uma lista?\n",
        "\n",
        "i = lista.index('item')"
      ]
    },
    {
      "cell_type": "markdown",
      "metadata": {
        "id": "2aneQ3SHaesG"
      },
      "source": [
        "Exemplo:\n",
        "\n",
        "Digamos que você puxou do Banco de Dados da sua empresa uma lista com todos os produtos que a empresa vende e a quantidade em estoque de todos eles."
      ]
    },
    {
      "cell_type": "code",
      "execution_count": null,
      "metadata": {
        "id": "f_BCpOloaesH"
      },
      "outputs": [],
      "source": [
        "produtos = ['tv', 'celular', 'tablet', 'mouse', 'teclado', 'geladeira', 'forno']\n",
        "estoque = [100, 150, 100, 120, 70, 180, 80]"
      ]
    },
    {
      "cell_type": "markdown",
      "metadata": {
        "id": "kEvNMvmlaesJ"
      },
      "source": [
        "Nesse caso a lista é \"pequena\" para fins didáticos, mas essa lista poderia ter dezenas de milhares de produtos diferentes.\n",
        "\n",
        "E agora, como eu faço para descobrir a quantidade em estoque do produto geladeira?"
      ]
    },
    {
      "cell_type": "code",
      "execution_count": null,
      "metadata": {
        "id": "6I4LCL01aesL",
        "outputId": "41c956e5-a77b-44d0-e6b7-a2a9f70441f7"
      },
      "outputs": [
        {
          "name": "stdout",
          "output_type": "stream",
          "text": [
            "Quantidade em estoque da geladeira é de: 180\n"
          ]
        }
      ],
      "source": [
        "i = produtos.index('geladeira')\n",
        "qtde_estoque = estoque[i]\n",
        "\n",
        "print('Quantidade em estoque da geladeira é de: {}'.format(qtde_estoque))"
      ]
    },
    {
      "cell_type": "markdown",
      "metadata": {
        "id": "fwE1SbqgaesN"
      },
      "source": [
        "Crie um programa para fazer uma consulta de estoque. O usuário do programa deve inserir o nome do produto e, caso ele não exista na lista, ele deve ser avisado. Caso exista, o programa deve dizer a quantidade de unidades em estoque do produto"
      ]
    },
    {
      "cell_type": "code",
      "execution_count": null,
      "metadata": {
        "id": "Nu8NhwNKaesN",
        "outputId": "5f54c513-4842-4b17-a93f-872a76b739fd"
      },
      "outputs": [
        {
          "name": "stdout",
          "output_type": "stream",
          "text": [
            "Insira o nome do produto em letra minúsculatv\n",
            "Temos 100 unidades de tv no estoque\n"
          ]
        }
      ],
      "source": [
        "produto = input('Insira o nome do produto em letra minúscula')\n",
        "if produto in produtos:\n",
        "    i = produtos.index(produto)\n",
        "    qtde_estoque = estoque[i]\n",
        "    print('Temos {} unidades de {} no estoque'.format(qtde_estoque, produto))\n",
        "else:\n",
        "    print('{} não existe no estoque'.format(produto))"
      ]
    }
  ],
  "metadata": {
    "kernelspec": {
      "display_name": "Python 3",
      "language": "python",
      "name": "python3"
    },
    "language_info": {
      "codemirror_mode": {
        "name": "ipython",
        "version": 3
      },
      "file_extension": ".py",
      "mimetype": "text/x-python",
      "name": "python",
      "nbconvert_exporter": "python",
      "pygments_lexer": "ipython3",
      "version": "3.8.3"
    },
    "colab": {
      "name": "Cópia de Gabarito - Listas 03.ipynb",
      "provenance": [],
      "include_colab_link": true
    }
  },
  "nbformat": 4,
  "nbformat_minor": 0
}